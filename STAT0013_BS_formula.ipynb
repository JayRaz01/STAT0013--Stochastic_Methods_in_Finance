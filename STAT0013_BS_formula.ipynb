{
 "cells": [
  {
   "cell_type": "markdown",
   "metadata": {},
   "source": [
    "Calculate the Call/Put price of a European Option, using the BS formula"
   ]
  },
  {
   "cell_type": "code",
   "execution_count": 1,
   "metadata": {},
   "outputs": [],
   "source": [
    "import numpy as np\n",
    "import scipy as sc\n",
    "import matplotlib.pyplot as plt\n",
    "import statistics as stat\n",
    "import math as m"
   ]
  },
  {
   "cell_type": "code",
   "execution_count": 2,
   "metadata": {},
   "outputs": [],
   "source": [
    "from scipy.stats import norm  # Importing the cumulative distribution function (CDF) of the normal distribution\n",
    "\n",
    "def d_1(S0, K, r, T, vol):\n",
    "    # Calculate d1, which is an intermediate step in the Black-Scholes formula\n",
    "    # d1 represents a standardized measure of the difference between the current stock price and the strike price\n",
    "    # S0: Current stock price\n",
    "    # K: Strike price\n",
    "    # r: Risk-free interest rate\n",
    "    # T: Time to maturity (in years)\n",
    "    # vol: Volatility of the stock (standard deviation of stock returns)\n",
    "    \n",
    "    sol1 = (m.log(S0/K) + (r + 0.5*vol**2)*T) / (vol * np.sqrt(T))  # Using Black-Scholes d1 formula\n",
    "    return sol1  # Return d1\n",
    "\n",
    "\n",
    "def d_2(S0, K, r, T, vol):\n",
    "    # Calculate d2, another intermediate step in the Black-Scholes formula\n",
    "    # d2 is related to d1 but with a shift in the volatility term\n",
    "    \n",
    "    sol2 = (m.log(S0/K) + (r - 0.5*vol**2)*T) / (vol * np.sqrt(T))  # Using Black-Scholes d2 formula\n",
    "    return sol2  # Return d2\n",
    "\n",
    "\n",
    "def call_price(S0, K, r, T, vol):\n",
    "    # Calculate the price of a European call option using the Black-Scholes formula\n",
    "    # S0: Current stock price\n",
    "    # K: Strike price\n",
    "    # r: Risk-free interest rate\n",
    "    # T: Time to maturity (in years)\n",
    "    # vol: Volatility of the stock\n",
    "    \n",
    "    d1 = d_1(S0, K, r, T, vol)  # Calculate d1\n",
    "    d2 = d_2(S0, K, r, T, vol)  # Calculate d2\n",
    "    Nd1 = norm.cdf(d1)  # CDF of standard normal distribution at d1 (probability S0 will be above K)\n",
    "    Nd2 = norm.cdf(d2)  # CDF of standard normal distribution at d2 (probability discounted to present value)\n",
    "    \n",
    "    # Black-Scholes formula for call option price:\n",
    "    call = S0 * Nd1 - K * m.exp(-r*T) * Nd2  # Present value of stock payoff minus present value of strike price\n",
    "    return call  # Return the call option price\n",
    "\n",
    "\n",
    "def put_price(S0, K, r, T, vol):\n",
    "    # Calculate the price of a European put option using the Black-Scholes formula\n",
    "    # S0: Current stock price\n",
    "    # K: Strike price\n",
    "    # r: Risk-free interest rate\n",
    "    # T: Time to maturity (in years)\n",
    "    # vol: Volatility of the stock\n",
    "    \n",
    "    d1 = d_1(S0, K, r, T, vol)  # Calculate d1\n",
    "    d2 = d_2(S0, K, r, T, vol)  # Calculate d2\n",
    "    Nd1 = norm.cdf(-d1)  # CDF of standard normal distribution at -d1 (probability S0 will be below K)\n",
    "    Nd2 = norm.cdf(-d2)  # CDF of standard normal distribution at -d2 (probability discounted to present value)\n",
    "    \n",
    "    # Black-Scholes formula for put option price:\n",
    "    put = K * m.exp(-r*T) * Nd2 - S0 * Nd1  # Present value of strike price minus present value of stock payoff\n",
    "    return put  # Return the put option price"
   ]
  },
  {
   "cell_type": "code",
   "execution_count": 3,
   "metadata": {},
   "outputs": [
    {
     "name": "stdout",
     "output_type": "stream",
     "text": [
      "Call option price: £ 2.3050780384261547\n",
      "Put option price: £ 1.2975359338802634e-07\n"
     ]
    }
   ],
   "source": [
    "C = call_price(18, 20, 0.08, 3, 0.05)\n",
    "print(\"Call option price: £\", C)\n",
    "\n",
    "P = put_price(18, 15, 0.08, 3, 0.05)\n",
    "print(\"Put option price: £\", P)"
   ]
  },
  {
   "cell_type": "markdown",
   "metadata": {},
   "source": [
    "Now, let us construct an algorithm for calculating implied volatility from the BS formula"
   ]
  },
  {
   "cell_type": "code",
   "execution_count": 4,
   "metadata": {},
   "outputs": [],
   "source": [
    "def fnum(S0, K, r, T, v_i, market_price):\n",
    "    # fnum: Calculates the difference between the observed market price and the calculated option price\n",
    "    # This function represents the numerator in the Newton-Raphson method for implied volatility calculation.\n",
    "    # S0: Current stock price\n",
    "    # K: Strike price\n",
    "    # r: Risk-free interest rate\n",
    "    # T: Time to maturity (in years)\n",
    "    # v_i: Current volatility estimate\n",
    "    # market_price: The observed market price of the option\n",
    "    \n",
    "    f = market_price - call_price(S0, K, r, T, v_i)  # Difference between market price and Black-Scholes call price\n",
    "    return f  # Return the difference (residual)\n",
    "\n",
    "\n",
    "def fdenom(S0, K, r, T, v_i):\n",
    "    # fdenom: Derivative of the option price with respect to volatility (vega), used in the Newton-Raphson method\n",
    "    # This function represents the denominator in the Newton-Raphson method for implied volatility calculation.\n",
    "    # Vega is the sensitivity of the option price to changes in volatility.\n",
    "    \n",
    "    fdash = -S0 * (norm.cdf(d_1(S0, K, r, T, v_i))) * np.sqrt(T)  # Approximation of the derivative (vega) using d_1\n",
    "    return fdash  # Return the derivative (vega)\n",
    "\n",
    "\n",
    "def NR_algorithm(S0, K, r, T, v0, market_price, iterations):\n",
    "    # NR_algorithm: Implements the Newton-Raphson method to calculate implied volatility\n",
    "    # S0: Current stock price\n",
    "    # K: Strike price\n",
    "    # r: Risk-free interest rate\n",
    "    # T: Time to maturity (in years)\n",
    "    # v0: Initial guess for volatility\n",
    "    # market_price: The observed market price of the option\n",
    "    # iterations: Number of iterations to run for the Newton-Raphson method\n",
    "    \n",
    "    v_i = v0  # Initialize the volatility estimate with the initial guess (v0)\n",
    "    \n",
    "    # Iterate through the Newton-Raphson process to refine the volatility estimate\n",
    "    for i in range(1, iterations + 1):\n",
    "        # Update volatility estimate: v_i = v_i - f(v_i) / f'(v_i)\n",
    "        vnext = v_i - (fnum(S0, K, r, T, v_i, market_price) / fdenom(S0, K, r, T, v_i))\n",
    "        v_i = vnext  # Set the updated volatility estimate for the next iteration\n",
    "    \n",
    "    return v_i  # Return the final volatility estimate after all iterations\n"
   ]
  },
  {
   "cell_type": "code",
   "execution_count": 5,
   "metadata": {},
   "outputs": [
    {
     "name": "stdout",
     "output_type": "stream",
     "text": [
      "Implied volatility is:  0.21400828483278975\n"
     ]
    }
   ],
   "source": [
    "implied_volatility = NR_algorithm(29, 28, 0.05, 3/12, 0.15, 2.00, 1000)\n",
    "print(\"Implied volatility is: \", implied_volatility)"
   ]
  }
 ],
 "metadata": {
  "kernelspec": {
   "display_name": "Python 3",
   "language": "python",
   "name": "python3"
  },
  "language_info": {
   "codemirror_mode": {
    "name": "ipython",
    "version": 3
   },
   "file_extension": ".py",
   "mimetype": "text/x-python",
   "name": "python",
   "nbconvert_exporter": "python",
   "pygments_lexer": "ipython3",
   "version": "3.12.2"
  }
 },
 "nbformat": 4,
 "nbformat_minor": 2
}

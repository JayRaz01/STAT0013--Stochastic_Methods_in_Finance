{
 "cells": [
  {
   "cell_type": "markdown",
   "metadata": {},
   "source": [
    "Calculate the Call/Put price of a European Option, using the Binomial Model"
   ]
  },
  {
   "cell_type": "code",
   "execution_count": 5,
   "metadata": {},
   "outputs": [],
   "source": [
    "# importing necessary packages\n",
    "import numpy as np\n",
    "import scipy as sc\n",
    "import matplotlib.pyplot as plt\n",
    "import statistics as stat\n",
    "import math as m"
   ]
  },
  {
   "cell_type": "code",
   "execution_count": 6,
   "metadata": {},
   "outputs": [],
   "source": [
    "def binomial_tree(S0, n, u, d):\n",
    "    tree = [[S0]]  # Stock price at time 0\n",
    "    for i in range(1, n+1):  # Repeat process equal to the number of specified steps n\n",
    "        prev_level = tree[-1]  # Previous level is the most recent list in the tree\n",
    "        new_level = [prev_level[0] * u]  # First element of the new level is the first element of the previous level * u\n",
    "        for j in range(1, i+1):  # Loop through to calculate the rest of the prices at this level\n",
    "            new_price = prev_level[j-1] * d  # Next element of the new level is the corresponding element in the previous level * d\n",
    "            new_level.append(new_price)  # Append the new price to the new level\n",
    "        tree.append(new_level)  # Add the new level to the tree\n",
    "    return tree  # Return the full binomial tree\n",
    "\n",
    "\n",
    "def backwards_induction(terminals, r, dt, u, d, n):\n",
    "    p = (m.exp(r*dt)-d)/(u-d)  # Risk-neutral probability based on u, d, and the interest rate r\n",
    "    mytree = [terminals]  # Initialize the tree with the terminal payoff values\n",
    "    for j in range(1, n+1):  # Work backwards through the tree, one level at a time\n",
    "        discounted_level = []  # Initialize the discounted level for this step\n",
    "        for i, item in enumerate(mytree[-1]):  # Loop through the previous (terminal) level\n",
    "            if i+1 < len(mytree[-1]):  # Ensure we are within bounds of the previous level\n",
    "                # Calculate the discounted value using the risk-neutral probability\n",
    "                discounted = m.exp(-r*dt) * (p*mytree[-1][i] + (1-p)*mytree[-1][i+1])\n",
    "                discounted_level.append(discounted)  # Append discounted value to current level\n",
    "        mytree.append(discounted_level)  # Append the newly calculated level to the tree\n",
    "    return mytree  # Return the tree with all levels populated from the terminal to the root\n",
    "\n",
    "\n",
    "def euro_call(S0, K, r, T, n, u, d):\n",
    "    dt = T/n  # Calculate the time step for each interval\n",
    "    BT = binomial_tree(S0, n, u, d)  # Build the binomial stock price tree\n",
    "    terminal_payoff = []  # Initialize the list to store terminal payoffs for call option\n",
    "    for i in BT[-1]:  # Loop through the terminal nodes (last level of the tree)\n",
    "        if i > K:  # If stock price is greater than strike price, calculate the payoff\n",
    "            terminal_payoff.append(i - K)  # Payoff for call option is (S-K)\n",
    "        else:\n",
    "            terminal_payoff.append(0)  # If stock price <= strike price, payoff is 0\n",
    "    # Perform backwards induction to calculate the option price\n",
    "    final_tree = backwards_induction(terminal_payoff, r, dt, u, d, n)\n",
    "    return final_tree[-1][0]  # Return the option price (root of the tree)\n",
    "\n",
    "\n",
    "def euro_put(S0, K, r, T, n, u, d):\n",
    "    dt = T/n  # Calculate the time step for each interval\n",
    "    BT = binomial_tree(S0, n, u, d)  # Build the binomial stock price tree\n",
    "    terminal_payoff = []  # Initialize the list to store terminal payoffs for put option\n",
    "    for i in BT[-1]:  # Loop through the terminal nodes (last level of the tree)\n",
    "        if K > i:  # If strike price is greater than stock price, calculate the payoff\n",
    "            terminal_payoff.append(K - i)  # Payoff for put option is (K-S)\n",
    "        else:\n",
    "            terminal_payoff.append(0)  # If strike price <= stock price, payoff is 0\n",
    "    # Perform backwards induction to calculate the option price\n",
    "    final_tree = backwards_induction(terminal_payoff, r, dt, u, d, n)\n",
    "    return final_tree[-1][0]  # Return the option price (root of the tree)\n",
    "\n"
   ]
  },
  {
   "cell_type": "code",
   "execution_count": 8,
   "metadata": {},
   "outputs": [
    {
     "name": "stdout",
     "output_type": "stream",
     "text": [
      "European Call Option Price: £ 1.686371377305191\n",
      "European Put Option Price: £ 0.6384107785689576\n"
     ]
    }
   ],
   "source": [
    "EC = euro_call(29, 28, 0.05, 0.25, 1000, m.exp(0.15*np.sqrt(0.25/1000)), m.exp(-0.15*np.sqrt(0.25/1000)))\n",
    "print(\"European Call Option Price: £\", EC)\n",
    "\n",
    "EP = euro_put(9, 10, 0.04, 2, 2, 1.1, 0.9)\n",
    "print(\"European Put Option Price: £\", EP)"
   ]
  }
 ],
 "metadata": {
  "kernelspec": {
   "display_name": "Python 3",
   "language": "python",
   "name": "python3"
  },
  "language_info": {
   "codemirror_mode": {
    "name": "ipython",
    "version": 3
   },
   "file_extension": ".py",
   "mimetype": "text/x-python",
   "name": "python",
   "nbconvert_exporter": "python",
   "pygments_lexer": "ipython3",
   "version": "3.12.2"
  }
 },
 "nbformat": 4,
 "nbformat_minor": 2
}
